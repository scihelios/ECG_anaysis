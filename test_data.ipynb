{
 "cells": [
  {
   "cell_type": "code",
   "execution_count": 2,
   "metadata": {},
   "outputs": [],
   "source": [
    "import numpy as np\n",
    "import matplotlib.pyplot as plt\n",
    "import wfdb\n",
    "import dipole as dip\n",
    "\n",
    "signals, fields = wfdb.rdsamp('data/2/1')\n",
    "\n"
   ]
  },
  {
   "cell_type": "code",
   "execution_count": 4,
   "metadata": {},
   "outputs": [],
   "source": [
    "# Initialisation du coeur\n",
    "\n",
    "position_coeur = dip.Vecteur(0, 0, 0)\n",
    "moment_coeur = dip.Vecteur(0, 0, 0)\n",
    "\n",
    "dipole_coeur = dip.Dipole(position_coeur, moment_coeur)\n",
    "\n",
    "# Initialisation des points de mesure\n",
    "\n",
    "point1 = dip.Vecteur(-1, 0, 0)    # Bras droit\n",
    "point2 = dip.Vecteur(1, 0, 0)     # Bras gauche\n",
    "point3 = dip.Vecteur(0.5, -2, 0)     # Jambe gauche\n",
    "point4 = dip.Vecteur(0, 0, 0.5)    # Electrode centrale\n",
    "\n",
    "\n",
    "\n",
    "x_max, x_min = 2, -2\n",
    "y_max, y_min = 2, -2\n",
    "z_max, z_min = 2, -2\n",
    "nbr_points = 10\n",
    "\n",
    "x = np.linspace(x_min, x_max, nbr_points)\n",
    "y = np.linspace(y_min, y_max, nbr_points)\n",
    "z = np.linspace(z_min, z_max, nbr_points)\n",
    "\n",
    "X, Y, Z = np.meshgrid(x, y, z)\n",
    "\n",
    "cube = (X<1) & (X>-1) & (Y<1) & (Y>-1) & (Z<1) & (Z>-1)\n",
    "\n",
    "# set the colors of each object\n",
    "colors = np.empty(cube.shape, dtype=object)\n",
    "colors[cube] = 'red'\n",
    "\n",
    "# and plot everything\n",
    "ax = plt.figure().add_subplot(projection='3d')\n",
    "ax.voxels(cube, facecolors=colors, edgecolor='k')\n",
    "\n",
    "plt.show()\n",
    "\n",
    "\n",
    "\n",
    "\n",
    "\n",
    "\n",
    "\n"
   ]
  }
 ],
 "metadata": {
  "kernelspec": {
   "display_name": "Python 3",
   "language": "python",
   "name": "python3"
  },
  "language_info": {
   "codemirror_mode": {
    "name": "ipython",
    "version": 3
   },
   "file_extension": ".py",
   "mimetype": "text/x-python",
   "name": "python",
   "nbconvert_exporter": "python",
   "pygments_lexer": "ipython3",
   "version": "3.10.11"
  }
 },
 "nbformat": 4,
 "nbformat_minor": 2
}
